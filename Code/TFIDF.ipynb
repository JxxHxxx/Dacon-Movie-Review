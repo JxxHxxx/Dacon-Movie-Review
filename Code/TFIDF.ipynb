{
 "cells": [
  {
   "cell_type": "code",
   "execution_count": 85,
   "metadata": {},
   "outputs": [],
   "source": [
    "import pandas as pd\n",
    "import re\n",
    "\n",
    "from konlpy.tag import Okt\n",
    "\n",
    "from sklearn.feature_extraction.text import TfidfVectorizer\n",
    "from sklearn.model_selection import train_test_split, StratifiedKFold\n",
    "from sklearn.metrics import accuracy_score\n",
    "\n",
    "from catboost import CatBoostClassifier"
   ]
  },
  {
   "cell_type": "code",
   "execution_count": 73,
   "metadata": {},
   "outputs": [],
   "source": [
    "train = pd.read_csv('../Data/train.csv')\n",
    "test = pd.read_csv('../Data/test.csv')"
   ]
  },
  {
   "cell_type": "code",
   "execution_count": 81,
   "metadata": {},
   "outputs": [],
   "source": [
    "stopword = ['이','있','하','것','들','그','되','수','보','않','없','나','이나','을','를','은','는','가','에','에게','의','다','이다','하다']\n",
    "okt = Okt()\n",
    "tokenpattern = r\"[^a-zA-Zㄱ-ㅎㅏ-ㅣ가-힣]\"\n",
    "\n",
    "vectorizer = TfidfVectorizer(min_df = 3,  # 최소 빈도수\n",
    "                             stop_words=stopword, # 불용어\n",
    "                             tokenizer=okt.morphs, # 토큰화 방식\n",
    "                             token_pattern= tokenpattern  # 토큰화 패턴\n",
    ")"
   ]
  },
  {
   "cell_type": "code",
   "execution_count": 88,
   "metadata": {},
   "outputs": [
    {
     "name": "stderr",
     "output_type": "stream",
     "text": [
      "C:\\Users\\JH\\AppData\\Local\\Programs\\Python\\Python39\\lib\\site-packages\\sklearn\\feature_extraction\\text.py:516: UserWarning: The parameter 'token_pattern' will not be used since 'tokenizer' is not None'\n",
      "  warnings.warn(\n"
     ]
    }
   ],
   "source": [
    "vectorizer.fit(train.document)\n",
    "X = vectorizer.transform(train.document)\n",
    "X = X.toarray()\n",
    "y = train.label\n",
    "\n",
    "X_test = vectorizer.transform(test.document)\n",
    "X_test = X_test.toarray()\n",
    "\n",
    "kf = StratifiedKFold(shuffle=True)"
   ]
  },
  {
   "cell_type": "code",
   "execution_count": 90,
   "metadata": {},
   "outputs": [
    {
     "name": "stdout",
     "output_type": "stream",
     "text": [
      "0:\tlearn: 0.5837500\ttest: 0.5710000\tbest: 0.5710000 (0)\ttotal: 36.4ms\tremaining: 36.3s\n",
      "100:\tlearn: 0.9580000\ttest: 0.8170000\tbest: 0.8280000 (58)\ttotal: 2.57s\tremaining: 22.9s\n",
      "200:\tlearn: 0.9985000\ttest: 0.8170000\tbest: 0.8280000 (58)\ttotal: 4.99s\tremaining: 19.8s\n",
      "300:\tlearn: 0.9992500\ttest: 0.8200000\tbest: 0.8280000 (58)\ttotal: 7.6s\tremaining: 17.6s\n",
      "Stopped by overfitting detector  (300 iterations wait)\n",
      "\n",
      "bestTest = 0.828\n",
      "bestIteration = 58\n",
      "\n",
      "Shrink model to first 59 iterations.\n",
      "0:\tlearn: 0.5852500\ttest: 0.5730000\tbest: 0.5730000 (0)\ttotal: 23.3ms\tremaining: 23.3s\n",
      "100:\tlearn: 0.9595000\ttest: 0.7890000\tbest: 0.7910000 (99)\ttotal: 2.58s\tremaining: 22.9s\n",
      "200:\tlearn: 0.9987500\ttest: 0.8060000\tbest: 0.8140000 (199)\ttotal: 4.99s\tremaining: 19.8s\n",
      "300:\tlearn: 0.9992500\ttest: 0.8060000\tbest: 0.8150000 (203)\ttotal: 7.61s\tremaining: 17.7s\n",
      "400:\tlearn: 0.9997500\ttest: 0.8140000\tbest: 0.8200000 (336)\ttotal: 9.99s\tremaining: 14.9s\n",
      "500:\tlearn: 0.9997500\ttest: 0.8270000\tbest: 0.8270000 (489)\ttotal: 12.7s\tremaining: 12.7s\n",
      "600:\tlearn: 0.9997500\ttest: 0.8230000\tbest: 0.8290000 (509)\ttotal: 15.2s\tremaining: 10.1s\n",
      "700:\tlearn: 0.9997500\ttest: 0.8210000\tbest: 0.8290000 (509)\ttotal: 17.4s\tremaining: 7.41s\n",
      "800:\tlearn: 0.9997500\ttest: 0.8230000\tbest: 0.8290000 (509)\ttotal: 20s\tremaining: 4.97s\n",
      "Stopped by overfitting detector  (300 iterations wait)\n",
      "\n",
      "bestTest = 0.829\n",
      "bestIteration = 509\n",
      "\n",
      "Shrink model to first 510 iterations.\n",
      "0:\tlearn: 0.5737500\ttest: 0.5820000\tbest: 0.5820000 (0)\ttotal: 29.6ms\tremaining: 29.6s\n",
      "100:\tlearn: 0.9630000\ttest: 0.8000000\tbest: 0.8010000 (99)\ttotal: 2.27s\tremaining: 20.2s\n",
      "200:\tlearn: 0.9987500\ttest: 0.8010000\tbest: 0.8020000 (119)\ttotal: 4.85s\tremaining: 19.3s\n",
      "300:\tlearn: 0.9995000\ttest: 0.8030000\tbest: 0.8090000 (209)\ttotal: 7.57s\tremaining: 17.6s\n",
      "400:\tlearn: 0.9995000\ttest: 0.8110000\tbest: 0.8110000 (387)\ttotal: 10.1s\tremaining: 15.1s\n",
      "500:\tlearn: 0.9995000\ttest: 0.8120000\tbest: 0.8120000 (460)\ttotal: 12.6s\tremaining: 12.5s\n",
      "600:\tlearn: 0.9995000\ttest: 0.8120000\tbest: 0.8150000 (514)\ttotal: 14.8s\tremaining: 9.85s\n",
      "700:\tlearn: 0.9995000\ttest: 0.8180000\tbest: 0.8180000 (699)\ttotal: 17.6s\tremaining: 7.5s\n",
      "800:\tlearn: 0.9995000\ttest: 0.8120000\tbest: 0.8180000 (699)\ttotal: 21s\tremaining: 5.21s\n",
      "900:\tlearn: 0.9995000\ttest: 0.8170000\tbest: 0.8180000 (699)\ttotal: 24.4s\tremaining: 2.68s\n",
      "999:\tlearn: 0.9995000\ttest: 0.8160000\tbest: 0.8180000 (699)\ttotal: 27.6s\tremaining: 0us\n",
      "\n",
      "bestTest = 0.818\n",
      "bestIteration = 699\n",
      "\n",
      "Shrink model to first 700 iterations.\n",
      "0:\tlearn: 0.5587500\ttest: 0.5650000\tbest: 0.5650000 (0)\ttotal: 38.1ms\tremaining: 38s\n",
      "100:\tlearn: 0.9597500\ttest: 0.7910000\tbest: 0.7910000 (100)\ttotal: 3.17s\tremaining: 28.2s\n",
      "200:\tlearn: 0.9982500\ttest: 0.8050000\tbest: 0.8110000 (199)\ttotal: 6.37s\tremaining: 25.3s\n",
      "300:\tlearn: 0.9990000\ttest: 0.8060000\tbest: 0.8110000 (199)\ttotal: 9.5s\tremaining: 22.1s\n",
      "400:\tlearn: 0.9990000\ttest: 0.8060000\tbest: 0.8110000 (199)\ttotal: 13.1s\tremaining: 19.6s\n",
      "500:\tlearn: 0.9992500\ttest: 0.8090000\tbest: 0.8120000 (459)\ttotal: 17.4s\tremaining: 17.4s\n",
      "600:\tlearn: 0.9992500\ttest: 0.8110000\tbest: 0.8120000 (459)\ttotal: 20.5s\tremaining: 13.6s\n",
      "700:\tlearn: 0.9992500\ttest: 0.8120000\tbest: 0.8160000 (656)\ttotal: 24.4s\tremaining: 10.4s\n",
      "800:\tlearn: 0.9992500\ttest: 0.8140000\tbest: 0.8160000 (656)\ttotal: 28.4s\tremaining: 7.05s\n",
      "900:\tlearn: 0.9992500\ttest: 0.8180000\tbest: 0.8180000 (854)\ttotal: 31.6s\tremaining: 3.48s\n",
      "999:\tlearn: 0.9992500\ttest: 0.8180000\tbest: 0.8180000 (854)\ttotal: 35.1s\tremaining: 0us\n",
      "\n",
      "bestTest = 0.818\n",
      "bestIteration = 854\n",
      "\n",
      "Shrink model to first 855 iterations.\n",
      "0:\tlearn: 0.6027500\ttest: 0.5880000\tbest: 0.5880000 (0)\ttotal: 33.5ms\tremaining: 33.5s\n",
      "100:\tlearn: 0.9600000\ttest: 0.7930000\tbest: 0.7930000 (94)\ttotal: 2.52s\tremaining: 22.5s\n",
      "200:\tlearn: 0.9982500\ttest: 0.7980000\tbest: 0.8010000 (176)\ttotal: 5.1s\tremaining: 20.3s\n",
      "300:\tlearn: 0.9992500\ttest: 0.8100000\tbest: 0.8140000 (279)\ttotal: 7.8s\tremaining: 18.1s\n",
      "400:\tlearn: 0.9992500\ttest: 0.8070000\tbest: 0.8140000 (279)\ttotal: 10.5s\tremaining: 15.6s\n",
      "500:\tlearn: 0.9992500\ttest: 0.8060000\tbest: 0.8140000 (279)\ttotal: 13.1s\tremaining: 13.1s\n",
      "600:\tlearn: 0.9992500\ttest: 0.8160000\tbest: 0.8160000 (599)\ttotal: 15.7s\tremaining: 10.4s\n",
      "700:\tlearn: 0.9992500\ttest: 0.8150000\tbest: 0.8170000 (674)\ttotal: 18.3s\tremaining: 7.8s\n",
      "800:\tlearn: 0.9992500\ttest: 0.8160000\tbest: 0.8170000 (674)\ttotal: 21.3s\tremaining: 5.29s\n",
      "900:\tlearn: 0.9992500\ttest: 0.8160000\tbest: 0.8180000 (872)\ttotal: 24.2s\tremaining: 2.65s\n",
      "999:\tlearn: 0.9992500\ttest: 0.8180000\tbest: 0.8220000 (954)\ttotal: 27.9s\tremaining: 0us\n",
      "\n",
      "bestTest = 0.822\n",
      "bestIteration = 954\n",
      "\n",
      "Shrink model to first 955 iterations.\n"
     ]
    },
    {
     "data": {
      "text/plain": [
       "0.822"
      ]
     },
     "execution_count": 90,
     "metadata": {},
     "output_type": "execute_result"
    }
   ],
   "source": [
    "patience = 300\n",
    "verboses = 100\n",
    "\n",
    "for train_index, val_index in kf.split(X, y):\n",
    "    X_train_, X_val = X[train_index], X[val_index]\n",
    "    y_train, y_val = y[train_index], y[val_index]\n",
    "    model = CatBoostClassifier(early_stopping_rounds= patience,\n",
    "                           eval_metric='Accuracy',\n",
    "                           learning_rate= 0.5,\n",
    "                           verbose = verboses)\n",
    "    model.fit(X_train_, y_train,\n",
    "                eval_set = [(X_val, y_val)])"
   ]
  },
  {
   "cell_type": "code",
   "execution_count": 91,
   "metadata": {},
   "outputs": [
    {
     "data": {
      "text/plain": [
       "array([1, 1, 0, ..., 1, 0, 0], dtype=int64)"
      ]
     },
     "execution_count": 91,
     "metadata": {},
     "output_type": "execute_result"
    }
   ],
   "source": [
    "pred = model.predict(X_test)\n",
    "pred"
   ]
  },
  {
   "cell_type": "code",
   "execution_count": 94,
   "metadata": {},
   "outputs": [],
   "source": [
    "submission = pd.read_csv(r'C:\\Users\\JH\\Desktop\\영화 리뷰 감성 분석\\Data\\sample_submission.csv')\n",
    "submission['label'] = pred\n",
    "submission\n",
    "\n",
    "submission.to_csv('../Data/submission06TFIDF.csv', index=False)"
   ]
  },
  {
   "cell_type": "code",
   "execution_count": null,
   "metadata": {},
   "outputs": [],
   "source": []
  }
 ],
 "metadata": {
  "interpreter": {
   "hash": "71b59b5ba49ad06bb2a011e750699e3983d230921f30bf7f37eb3a01ae69aa26"
  },
  "kernelspec": {
   "display_name": "Python 3.9.6 64-bit",
   "language": "python",
   "name": "python3"
  },
  "language_info": {
   "codemirror_mode": {
    "name": "ipython",
    "version": 3
   },
   "file_extension": ".py",
   "mimetype": "text/x-python",
   "name": "python",
   "nbconvert_exporter": "python",
   "pygments_lexer": "ipython3",
   "version": "3.9.6"
  },
  "orig_nbformat": 4
 },
 "nbformat": 4,
 "nbformat_minor": 2
}
